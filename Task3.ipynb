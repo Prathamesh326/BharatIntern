{
  "nbformat": 4,
  "nbformat_minor": 0,
  "metadata": {
    "colab": {
      "provenance": [],
      "authorship_tag": "ABX9TyP//98p5T8cmJFVgkSl18X2",
      "include_colab_link": true
    },
    "kernelspec": {
      "name": "python3",
      "display_name": "Python 3"
    },
    "language_info": {
      "name": "python"
    }
  },
  "cells": [
    {
      "cell_type": "markdown",
      "metadata": {
        "id": "view-in-github",
        "colab_type": "text"
      },
      "source": [
        "<a href=\"https://colab.research.google.com/github/Prathamesh326/BharatIntern/blob/main/Task3.ipynb\" target=\"_parent\"><img src=\"https://colab.research.google.com/assets/colab-badge.svg\" alt=\"Open In Colab\"/></a>"
      ]
    },
    {
      "cell_type": "code",
      "execution_count": 20,
      "metadata": {
        "id": "dZ0-deXoVMOS"
      },
      "outputs": [],
      "source": [
        "import pandas as pd\n",
        "from matplotlib import pyplot as plt\n",
        "import seaborn as sns"
      ]
    },
    {
      "cell_type": "code",
      "source": [
        "df=pd.read_csv(\"/Iris.csv\")"
      ],
      "metadata": {
        "id": "JD4DPxp_VOOb"
      },
      "execution_count": 21,
      "outputs": []
    },
    {
      "cell_type": "code",
      "source": [
        "df.head()"
      ],
      "metadata": {
        "colab": {
          "base_uri": "https://localhost:8080/",
          "height": 206
        },
        "id": "zRAjCimdVY1W",
        "outputId": "94037dd7-ec84-43a8-86f9-1c21ed1fd674"
      },
      "execution_count": 22,
      "outputs": [
        {
          "output_type": "execute_result",
          "data": {
            "text/plain": [
              "   Id  SepalLengthCm  SepalWidthCm  PetalLengthCm  PetalWidthCm      Species\n",
              "0   1            5.1           3.5            1.4           0.2  Iris-setosa\n",
              "1   3            4.7           3.2            1.3           0.2  Iris-setosa\n",
              "2   5            NaN           3.6            1.4           0.2  Iris-setosa\n",
              "3   6            5.4           3.9            1.7           0.4  Iris-setosa\n",
              "4   8            5.0           3.4            1.5           0.2  Iris-setosa"
            ],
            "text/html": [
              "\n",
              "\n",
              "  <div id=\"df-2344073e-5f64-4cea-ba3f-aa32d0b46c5e\">\n",
              "    <div class=\"colab-df-container\">\n",
              "      <div>\n",
              "<style scoped>\n",
              "    .dataframe tbody tr th:only-of-type {\n",
              "        vertical-align: middle;\n",
              "    }\n",
              "\n",
              "    .dataframe tbody tr th {\n",
              "        vertical-align: top;\n",
              "    }\n",
              "\n",
              "    .dataframe thead th {\n",
              "        text-align: right;\n",
              "    }\n",
              "</style>\n",
              "<table border=\"1\" class=\"dataframe\">\n",
              "  <thead>\n",
              "    <tr style=\"text-align: right;\">\n",
              "      <th></th>\n",
              "      <th>Id</th>\n",
              "      <th>SepalLengthCm</th>\n",
              "      <th>SepalWidthCm</th>\n",
              "      <th>PetalLengthCm</th>\n",
              "      <th>PetalWidthCm</th>\n",
              "      <th>Species</th>\n",
              "    </tr>\n",
              "  </thead>\n",
              "  <tbody>\n",
              "    <tr>\n",
              "      <th>0</th>\n",
              "      <td>1</td>\n",
              "      <td>5.1</td>\n",
              "      <td>3.5</td>\n",
              "      <td>1.4</td>\n",
              "      <td>0.2</td>\n",
              "      <td>Iris-setosa</td>\n",
              "    </tr>\n",
              "    <tr>\n",
              "      <th>1</th>\n",
              "      <td>3</td>\n",
              "      <td>4.7</td>\n",
              "      <td>3.2</td>\n",
              "      <td>1.3</td>\n",
              "      <td>0.2</td>\n",
              "      <td>Iris-setosa</td>\n",
              "    </tr>\n",
              "    <tr>\n",
              "      <th>2</th>\n",
              "      <td>5</td>\n",
              "      <td>NaN</td>\n",
              "      <td>3.6</td>\n",
              "      <td>1.4</td>\n",
              "      <td>0.2</td>\n",
              "      <td>Iris-setosa</td>\n",
              "    </tr>\n",
              "    <tr>\n",
              "      <th>3</th>\n",
              "      <td>6</td>\n",
              "      <td>5.4</td>\n",
              "      <td>3.9</td>\n",
              "      <td>1.7</td>\n",
              "      <td>0.4</td>\n",
              "      <td>Iris-setosa</td>\n",
              "    </tr>\n",
              "    <tr>\n",
              "      <th>4</th>\n",
              "      <td>8</td>\n",
              "      <td>5.0</td>\n",
              "      <td>3.4</td>\n",
              "      <td>1.5</td>\n",
              "      <td>0.2</td>\n",
              "      <td>Iris-setosa</td>\n",
              "    </tr>\n",
              "  </tbody>\n",
              "</table>\n",
              "</div>\n",
              "      <button class=\"colab-df-convert\" onclick=\"convertToInteractive('df-2344073e-5f64-4cea-ba3f-aa32d0b46c5e')\"\n",
              "              title=\"Convert this dataframe to an interactive table.\"\n",
              "              style=\"display:none;\">\n",
              "\n",
              "  <svg xmlns=\"http://www.w3.org/2000/svg\" height=\"24px\"viewBox=\"0 0 24 24\"\n",
              "       width=\"24px\">\n",
              "    <path d=\"M0 0h24v24H0V0z\" fill=\"none\"/>\n",
              "    <path d=\"M18.56 5.44l.94 2.06.94-2.06 2.06-.94-2.06-.94-.94-2.06-.94 2.06-2.06.94zm-11 1L8.5 8.5l.94-2.06 2.06-.94-2.06-.94L8.5 2.5l-.94 2.06-2.06.94zm10 10l.94 2.06.94-2.06 2.06-.94-2.06-.94-.94-2.06-.94 2.06-2.06.94z\"/><path d=\"M17.41 7.96l-1.37-1.37c-.4-.4-.92-.59-1.43-.59-.52 0-1.04.2-1.43.59L10.3 9.45l-7.72 7.72c-.78.78-.78 2.05 0 2.83L4 21.41c.39.39.9.59 1.41.59.51 0 1.02-.2 1.41-.59l7.78-7.78 2.81-2.81c.8-.78.8-2.07 0-2.86zM5.41 20L4 18.59l7.72-7.72 1.47 1.35L5.41 20z\"/>\n",
              "  </svg>\n",
              "      </button>\n",
              "\n",
              "\n",
              "\n",
              "    <div id=\"df-f79307cc-1eb5-4f04-b9af-55bd6d2d5756\">\n",
              "      <button class=\"colab-df-quickchart\" onclick=\"quickchart('df-f79307cc-1eb5-4f04-b9af-55bd6d2d5756')\"\n",
              "              title=\"Suggest charts.\"\n",
              "              style=\"display:none;\">\n",
              "\n",
              "<svg xmlns=\"http://www.w3.org/2000/svg\" height=\"24px\"viewBox=\"0 0 24 24\"\n",
              "     width=\"24px\">\n",
              "    <g>\n",
              "        <path d=\"M19 3H5c-1.1 0-2 .9-2 2v14c0 1.1.9 2 2 2h14c1.1 0 2-.9 2-2V5c0-1.1-.9-2-2-2zM9 17H7v-7h2v7zm4 0h-2V7h2v10zm4 0h-2v-4h2v4z\"/>\n",
              "    </g>\n",
              "</svg>\n",
              "      </button>\n",
              "    </div>\n",
              "\n",
              "<style>\n",
              "  .colab-df-quickchart {\n",
              "    background-color: #E8F0FE;\n",
              "    border: none;\n",
              "    border-radius: 50%;\n",
              "    cursor: pointer;\n",
              "    display: none;\n",
              "    fill: #1967D2;\n",
              "    height: 32px;\n",
              "    padding: 0 0 0 0;\n",
              "    width: 32px;\n",
              "  }\n",
              "\n",
              "  .colab-df-quickchart:hover {\n",
              "    background-color: #E2EBFA;\n",
              "    box-shadow: 0px 1px 2px rgba(60, 64, 67, 0.3), 0px 1px 3px 1px rgba(60, 64, 67, 0.15);\n",
              "    fill: #174EA6;\n",
              "  }\n",
              "\n",
              "  [theme=dark] .colab-df-quickchart {\n",
              "    background-color: #3B4455;\n",
              "    fill: #D2E3FC;\n",
              "  }\n",
              "\n",
              "  [theme=dark] .colab-df-quickchart:hover {\n",
              "    background-color: #434B5C;\n",
              "    box-shadow: 0px 1px 3px 1px rgba(0, 0, 0, 0.15);\n",
              "    filter: drop-shadow(0px 1px 2px rgba(0, 0, 0, 0.3));\n",
              "    fill: #FFFFFF;\n",
              "  }\n",
              "</style>\n",
              "\n",
              "    <script>\n",
              "      async function quickchart(key) {\n",
              "        const containerElement = document.querySelector('#' + key);\n",
              "        const charts = await google.colab.kernel.invokeFunction(\n",
              "            'suggestCharts', [key], {});\n",
              "      }\n",
              "    </script>\n",
              "\n",
              "      <script>\n",
              "\n",
              "function displayQuickchartButton(domScope) {\n",
              "  let quickchartButtonEl =\n",
              "    domScope.querySelector('#df-f79307cc-1eb5-4f04-b9af-55bd6d2d5756 button.colab-df-quickchart');\n",
              "  quickchartButtonEl.style.display =\n",
              "    google.colab.kernel.accessAllowed ? 'block' : 'none';\n",
              "}\n",
              "\n",
              "        displayQuickchartButton(document);\n",
              "      </script>\n",
              "      <style>\n",
              "    .colab-df-container {\n",
              "      display:flex;\n",
              "      flex-wrap:wrap;\n",
              "      gap: 12px;\n",
              "    }\n",
              "\n",
              "    .colab-df-convert {\n",
              "      background-color: #E8F0FE;\n",
              "      border: none;\n",
              "      border-radius: 50%;\n",
              "      cursor: pointer;\n",
              "      display: none;\n",
              "      fill: #1967D2;\n",
              "      height: 32px;\n",
              "      padding: 0 0 0 0;\n",
              "      width: 32px;\n",
              "    }\n",
              "\n",
              "    .colab-df-convert:hover {\n",
              "      background-color: #E2EBFA;\n",
              "      box-shadow: 0px 1px 2px rgba(60, 64, 67, 0.3), 0px 1px 3px 1px rgba(60, 64, 67, 0.15);\n",
              "      fill: #174EA6;\n",
              "    }\n",
              "\n",
              "    [theme=dark] .colab-df-convert {\n",
              "      background-color: #3B4455;\n",
              "      fill: #D2E3FC;\n",
              "    }\n",
              "\n",
              "    [theme=dark] .colab-df-convert:hover {\n",
              "      background-color: #434B5C;\n",
              "      box-shadow: 0px 1px 3px 1px rgba(0, 0, 0, 0.15);\n",
              "      filter: drop-shadow(0px 1px 2px rgba(0, 0, 0, 0.3));\n",
              "      fill: #FFFFFF;\n",
              "    }\n",
              "  </style>\n",
              "\n",
              "      <script>\n",
              "        const buttonEl =\n",
              "          document.querySelector('#df-2344073e-5f64-4cea-ba3f-aa32d0b46c5e button.colab-df-convert');\n",
              "        buttonEl.style.display =\n",
              "          google.colab.kernel.accessAllowed ? 'block' : 'none';\n",
              "\n",
              "        async function convertToInteractive(key) {\n",
              "          const element = document.querySelector('#df-2344073e-5f64-4cea-ba3f-aa32d0b46c5e');\n",
              "          const dataTable =\n",
              "            await google.colab.kernel.invokeFunction('convertToInteractive',\n",
              "                                                     [key], {});\n",
              "          if (!dataTable) return;\n",
              "\n",
              "          const docLinkHtml = 'Like what you see? Visit the ' +\n",
              "            '<a target=\"_blank\" href=https://colab.research.google.com/notebooks/data_table.ipynb>data table notebook</a>'\n",
              "            + ' to learn more about interactive tables.';\n",
              "          element.innerHTML = '';\n",
              "          dataTable['output_type'] = 'display_data';\n",
              "          await google.colab.output.renderOutput(dataTable, element);\n",
              "          const docLink = document.createElement('div');\n",
              "          docLink.innerHTML = docLinkHtml;\n",
              "          element.appendChild(docLink);\n",
              "        }\n",
              "      </script>\n",
              "    </div>\n",
              "  </div>\n"
            ]
          },
          "metadata": {},
          "execution_count": 22
        }
      ]
    },
    {
      "cell_type": "code",
      "source": [
        "df['Species'].value_counts()"
      ],
      "metadata": {
        "colab": {
          "base_uri": "https://localhost:8080/"
        },
        "id": "ItEAP9ZBXLZr",
        "outputId": "69616f42-6268-431b-e30e-e99787fb344a"
      },
      "execution_count": 23,
      "outputs": [
        {
          "output_type": "execute_result",
          "data": {
            "text/plain": [
              "Iris-versicolor    50\n",
              "Iris-virginica     50\n",
              "Iris-setosa        47\n",
              "Name: Species, dtype: int64"
            ]
          },
          "metadata": {},
          "execution_count": 23
        }
      ]
    },
    {
      "cell_type": "code",
      "source": [
        "sns.FacetGrid(df, hue = 'Species', height = 6).map(plt.scatter, \"PetalLengthCm\", \"SepalWidthCm\").add_legend()"
      ],
      "metadata": {
        "colab": {
          "base_uri": "https://localhost:8080/",
          "height": 624
        },
        "id": "-nBTfVHpXaWz",
        "outputId": "d9552857-d562-4826-eb01-d0adb0e63fa7"
      },
      "execution_count": 24,
      "outputs": [
        {
          "output_type": "execute_result",
          "data": {
            "text/plain": [
              "<seaborn.axisgrid.FacetGrid at 0x7d2fa91bb4c0>"
            ]
          },
          "metadata": {},
          "execution_count": 24
        },
        {
          "output_type": "display_data",
          "data": {
            "text/plain": [
              "<Figure size 743x600 with 1 Axes>"
            ],
            "image/png": "[encoded data removed]"
          },
          "metadata": {}
        }
      ]
    },
    {
      "cell_type": "code",
      "source": [
        "sns.boxplot(df['SepalLengthCm'])\n",
        "plt.show()"
      ],
      "metadata": {
        "colab": {
          "base_uri": "https://localhost:8080/",
          "height": 430
        },
        "id": "uez29awyVOR6",
        "outputId": "e723409f-c002-44da-8a37-e6d801f68145"
      },
      "execution_count": 25,
      "outputs": [
        {
          "output_type": "display_data",
          "data": {
            "text/plain": [
              "<Figure size 640x480 with 1 Axes>"
            ],
            "image/png": "[encoded data removed]"
          },
          "metadata": {}
        }
      ]
    },
    {
      "cell_type": "code",
      "source": [
        "#Dealing with outliers using Interquantile range\n",
        "\n",
        "print(df['SepalLengthCm'])\n",
        "Q1 = df['SepalLengthCm'].quantile(0.25)\n",
        "Q3 = df['SepalLengthCm'].quantile(0.75)\n",
        "\n",
        "IQR = Q3 - Q1\n",
        "print(IQR)\n",
        "\n",
        "upper = Q3 + 1.5*IQR\n",
        "lower = Q1 + 1.5*IQR"
      ],
      "metadata": {
        "colab": {
          "base_uri": "https://localhost:8080/"
        },
        "id": "oDg09ygBVOUk",
        "outputId": "8ed9fbff-1a44-4d9d-e7e4-a66308106cb6"
      },
      "execution_count": 26,
      "outputs": [
        {
          "output_type": "stream",
          "name": "stdout",
          "text": [
            "0      5.1\n",
            "1      4.7\n",
            "2      NaN\n",
            "3      5.4\n",
            "4      5.0\n",
            "      ... \n",
            "142    6.7\n",
            "143    6.3\n",
            "144    6.5\n",
            "145    6.2\n",
            "146    5.9\n",
            "Name: SepalLengthCm, Length: 147, dtype: float64\n",
            "1.2750000000000004\n"
          ]
        }
      ]
    },
    {
      "cell_type": "code",
      "source": [
        "print(upper)\n",
        "print(lower)"
      ],
      "metadata": {
        "colab": {
          "base_uri": "https://localhost:8080/"
        },
        "id": "5RvcNS0_VOXb",
        "outputId": "66b7421e-f459-4ba1-9416-999b7b3433b1"
      },
      "execution_count": 27,
      "outputs": [
        {
          "output_type": "stream",
          "name": "stdout",
          "text": [
            "8.3125\n",
            "7.0375000000000005\n"
          ]
        }
      ]
    },
    {
      "cell_type": "code",
      "source": [
        "out1 = df[df['SepalLengthCm'] < lower].values\n",
        "out2 = df[df['SepalLengthCm'] > upper].values\n",
        "\n",
        "df['SepalLengthCm'].replace(out1,lower,inplace=True)\n",
        "df['SepalLengthCm'].replace(out2,upper,inplace=True)\n",
        "\n",
        "print(df['SepalLengthCm'])"
      ],
      "metadata": {
        "colab": {
          "base_uri": "https://localhost:8080/"
        },
        "id": "Ct7zVEaZVOaK",
        "outputId": "f66328e3-9278-464b-c056-8a2563219575"
      },
      "execution_count": 28,
      "outputs": [
        {
          "output_type": "stream",
          "name": "stdout",
          "text": [
            "0      5.1\n",
            "1      4.7\n",
            "2      NaN\n",
            "3      5.4\n",
            "4      5.0\n",
            "      ... \n",
            "142    6.7\n",
            "143    6.3\n",
            "144    6.5\n",
            "145    6.2\n",
            "146    5.9\n",
            "Name: SepalLengthCm, Length: 147, dtype: float64\n"
          ]
        }
      ]
    },
    {
      "cell_type": "code",
      "source": [
        "# Principal Component Analysis\n",
        "from sklearn.decomposition import PCA\n",
        "from sklearn.linear_model import LogisticRegression\n",
        "from sklearn.model_selection import train_test_split\n",
        "from sklearn.metrics import accuracy_score"
      ],
      "metadata": {
        "id": "jPuH0R7OVOcr"
      },
      "execution_count": 29,
      "outputs": []
    },
    {
      "cell_type": "code",
      "source": [
        "df['SepalLengthCm'].fillna(df['SepalLengthCm'].mean(), inplace = True)\n",
        "df['SepalWidthCm'].fillna(df['SepalWidthCm'].mean(), inplace = True)\n",
        "df['PetalLengthCm'].fillna(df['PetalLengthCm'].mean(), inplace = True)\n",
        "\n",
        "logr = LogisticRegression()\n",
        "pca  = PCA(n_components = 2)"
      ],
      "metadata": {
        "id": "kYnBzgAxVOfr"
      },
      "execution_count": 30,
      "outputs": []
    },
    {
      "cell_type": "code",
      "source": [
        "x = df.drop('Id', axis = 1)\n",
        "x = x.drop('Species', axis =1)"
      ],
      "metadata": {
        "id": "Vmrd4Y1UVOiL"
      },
      "execution_count": 31,
      "outputs": []
    },
    {
      "cell_type": "code",
      "source": [
        "y = df['Species']"
      ],
      "metadata": {
        "id": "YQWdq1lQWOnC"
      },
      "execution_count": 32,
      "outputs": []
    },
    {
      "cell_type": "code",
      "source": [
        "pca.fit(x)\n",
        "x = pca.transform(x)\n",
        "\n",
        "print(x)"
      ],
      "metadata": {
        "colab": {
          "base_uri": "https://localhost:8080/"
        },
        "id": "s6TD5th9WOvS",
        "outputId": "2e2c4a6f-3a42-40dd-fd5c-a140eff9246a"
      },
      "execution_count": 33,
      "outputs": [
        {
          "output_type": "stream",
          "name": "stdout",
          "text": [
            "[[-2.75623123e+00  3.11083202e-01]\n",
            " [-2.96004371e+00 -1.54075542e-01]\n",
            " [-2.48797091e+00  8.98581899e-01]\n",
            " [-2.35315700e+00  7.31021970e-01]\n",
            " [-2.69790079e+00  1.54752563e-01]\n",
            " [-2.95655060e+00 -5.87787337e-01]\n",
            " [-2.74452180e+00 -1.20276882e-01]\n",
            " [-2.57983740e+00  6.37551369e-01]\n",
            " [-2.68376653e+00  3.65835616e-03]\n",
            " [-2.85768956e+00 -2.41327398e-01]\n",
            " [-3.29834067e+00 -4.84582122e-01]\n",
            " [-2.71902129e+00  1.17327036e+00]\n",
            " [-2.45917673e+00  1.32630084e+00]\n",
            " [-2.69615338e+00  8.01582216e-01]\n",
            " [-2.72025136e+00  3.03495059e-01]\n",
            " [-2.27332586e+00  8.66827826e-01]\n",
            " [-2.65966854e+00  5.01745513e-01]\n",
            " [-5.64822294e-01  1.23147666e-02]\n",
            " [-2.61529992e+00  4.22193865e-01]\n",
            " [-3.28665344e+00  1.19971591e-01]\n",
            " [-2.37426684e+00  9.14715772e-02]\n",
            " [-2.42651925e+00 -4.92618286e-02]\n",
            " [-2.57859667e+00 -1.50741520e-01]\n",
            " [-2.54019197e+00  1.21936215e-01]\n",
            " [-2.63467472e+00  3.60170213e-01]\n",
            " [-2.71203506e+00  3.05846770e-01]\n",
            " [-2.70279643e+00 -2.06995727e-01]\n",
            " [-2.65860026e+00 -2.12232160e-01]\n",
            " [-2.48271140e+00  4.06484567e-01]\n",
            " [-2.72098713e+00  7.99539388e-01]\n",
            " [-2.67172287e+00  1.08173603e+00]\n",
            " [-2.74452180e+00 -1.20276882e-01]\n",
            " [-2.93837056e+00  6.37457373e-02]\n",
            " [-2.69875066e+00  5.95631555e-01]\n",
            " [-2.74452180e+00 -1.20276882e-01]\n",
            " [-3.05068845e+00 -4.98183771e-01]\n",
            " [-2.66209338e+00  2.21479636e-01]\n",
            " [-2.84180787e+00  2.54408048e-01]\n",
            " [-2.92017987e+00 -9.42789378e-01]\n",
            " [-3.06746596e+00 -3.54256760e-01]\n",
            " [-2.47662100e+00  1.78723433e-01]\n",
            " [-2.28069230e+00  4.23597124e-01]\n",
            " [-2.78572983e+00 -2.56503685e-01]\n",
            " [-2.60989931e+00  4.91693595e-01]\n",
            " [-2.91010204e+00 -2.38442676e-01]\n",
            " [-2.61564482e+00  5.70824297e-01]\n",
            " [-2.77526113e+00  1.00429119e-01]\n",
            " [ 1.21075441e+00  6.89827314e-01]\n",
            " [ 8.60391592e-01  3.17156858e-01]\n",
            " [ 1.39081380e+00  5.08268470e-01]\n",
            " [ 1.12918466e-01 -8.27681748e-01]\n",
            " [ 1.01550313e+00  7.83898483e-02]\n",
            " [ 5.71334982e-01 -4.22610384e-01]\n",
            " [ 1.02367347e+00  2.79525024e-01]\n",
            " [-8.18498035e-01 -1.00983582e+00]\n",
            " [ 9.70962060e-01  2.32256713e-01]\n",
            " [-7.78280382e-02 -7.29957027e-01]\n",
            " [-5.77637403e-01 -1.26624289e+00]\n",
            " [ 4.40884746e-01 -1.07485331e-01]\n",
            " [ 1.92404709e-01 -5.43245460e-01]\n",
            " [ 9.13653940e-01 -1.26606855e-01]\n",
            " [-2.44603036e-01 -2.58613397e-01]\n",
            " [ 8.54473638e-01  4.70602776e-01]\n",
            " [ 5.90709781e-01 -3.60586733e-01]\n",
            " [ 1.64595186e-01 -3.34522141e-01]\n",
            " [ 8.72664331e-01 -5.35932339e-01]\n",
            " [-2.57604546e-02 -5.84211317e-01]\n",
            " [ 1.04654139e+00 -9.21631196e-02]\n",
            " [ 2.85819175e-01 -6.75017860e-02]\n",
            " [ 1.22630185e+00 -3.23874997e-01]\n",
            " [ 8.50082968e-01 -1.83394074e-01]\n",
            " [ 6.42099947e-01  1.51722752e-01]\n",
            " [ 8.27054979e-01  3.31912198e-01]\n",
            " [ 1.25844370e+00  2.50879086e-01]\n",
            " [ 1.48529655e+00  2.70034471e-01]\n",
            " [ 7.42328201e-01 -1.65641948e-01]\n",
            " [-3.77318036e-01 -3.67372349e-01]\n",
            " [-1.38928207e-01 -7.05261833e-01]\n",
            " [-2.60657165e-01 -6.80033628e-01]\n",
            " [ 6.50567270e-02 -3.14418304e-01]\n",
            " [ 1.30958014e+00 -4.22997471e-01]\n",
            " [ 5.19094950e-01 -4.94040878e-01]\n",
            " [ 7.36364280e-01  1.86587435e-01]\n",
            " [ 1.14770078e+00  4.10094448e-01]\n",
            " [ 7.42374167e-01 -3.64425413e-01]\n",
            " [ 1.75753677e-01 -2.74850200e-01]\n",
            " [ 9.61409523e-02 -6.83754737e-01]\n",
            " [ 3.94768707e-01 -6.74763335e-01]\n",
            " [ 8.19516089e-01 -3.70032884e-02]\n",
            " [ 1.59194578e-01 -4.04021871e-01]\n",
            " [-7.74301862e-01 -1.01507225e+00]\n",
            " [ 2.86669042e-01 -5.08380778e-01]\n",
            " [ 2.61330322e-01 -2.18175046e-01]\n",
            " [ 3.05698943e-01 -2.97726694e-01]\n",
            " [ 5.70485115e-01  1.82686071e-02]\n",
            " [-9.76539378e-01 -7.59086125e-01]\n",
            " [ 2.28338607e-01 -3.52050138e-01]\n",
            " [ 2.46223047e+00 -1.80890662e-02]\n",
            " [ 1.34590490e+00 -5.79216047e-01]\n",
            " [ 2.54418752e+00  3.47829634e-01]\n",
            " [ 1.90093007e+00 -1.82265838e-01]\n",
            " [ 2.27957379e+00 -4.24808836e-02]\n",
            " [ 3.32346825e+00  5.57984566e-01]\n",
            " [ 4.53961385e-01 -1.20267005e+00]\n",
            " [ 2.85924789e+00  3.61524457e-01]\n",
            " [ 2.24921295e+00 -2.38491691e-01]\n",
            " [ 2.84508003e+00  7.80705042e-01]\n",
            " [ 1.59059289e+00  2.40102845e-01]\n",
            " [ 1.73224759e+00 -2.14133734e-01]\n",
            " [ 2.09376889e+00  2.18208662e-01]\n",
            " [ 1.27710577e+00 -7.79818211e-01]\n",
            " [ 1.51741547e+00 -5.45193258e-01]\n",
            " [ 1.83422326e+00  1.15331219e-01]\n",
            " [ 1.87840705e+00  4.07918745e-02]\n",
            " [ 3.41389457e+00  1.17519148e+00]\n",
            " [ 3.72203771e+00  2.68761146e-01]\n",
            " [ 1.22979497e+00 -7.57586793e-01]\n",
            " [ 2.35625671e+00  3.78406336e-01]\n",
            " [ 1.13038299e+00 -6.13014707e-01]\n",
            " [ 3.42582241e+00  4.70732710e-01]\n",
            " [ 1.31746393e+00 -2.02712417e-01]\n",
            " [ 2.20429339e+00  3.32091982e-01]\n",
            " [ 2.54102692e+00  5.63608085e-01]\n",
            " [ 1.18751866e+00 -1.79835923e-01]\n",
            " [ 1.22068283e+00 -1.20276046e-01]\n",
            " [ 2.05306584e+00 -2.10266700e-01]\n",
            " [ 2.31434652e+00  4.70137485e-01]\n",
            " [ 2.76792574e+00  3.83980005e-01]\n",
            " [ 3.15630239e+00  1.37674209e+00]\n",
            " [ 2.08904570e+00 -2.17854843e-01]\n",
            " [ 1.37263377e+00 -1.43264605e-01]\n",
            " [ 1.71056206e+00 -5.01257925e-01]\n",
            " [ 3.00248993e+00  6.97735660e-01]\n",
            " [ 2.07486547e+00  1.32022829e-01]\n",
            " [ 1.83421088e+00  4.60283071e-02]\n",
            " [ 1.09912632e+00 -1.69363057e-01]\n",
            " [ 2.03543846e+00  3.74539302e-01]\n",
            " [ 2.24326141e+00  1.83040603e-01]\n",
            " [ 1.85015091e+00  4.12283200e-01]\n",
            " [ 1.34590490e+00 -5.79216047e-01]\n",
            " [ 2.49194748e+00  2.76399140e-01]\n",
            " [ 2.34821285e+00  3.01739409e-01]\n",
            " [ 1.87267392e+00  1.89225488e-01]\n",
            " [ 1.45597040e+00 -3.71867632e-01]\n",
            " [ 1.69311950e+00  7.85357726e-02]\n",
            " [ 1.83158001e+00  1.08164023e-01]\n",
            " [ 1.32056618e+00 -2.89010315e-01]]\n"
          ]
        }
      ]
    },
    {
      "cell_type": "code",
      "source": [
        "x_train, x_test, y_train, y_test = train_test_split(x,y,random_state=0,test_size = 0.2)"
      ],
      "metadata": {
        "id": "cc6YYzxJWOyW"
      },
      "execution_count": 34,
      "outputs": []
    },
    {
      "cell_type": "code",
      "source": [
        "logr.fit(x_train,y_train)"
      ],
      "metadata": {
        "colab": {
          "base_uri": "https://localhost:8080/",
          "height": 74
        },
        "id": "FvWj7AVcWO1L",
        "outputId": "13e68d40-f29b-433e-f51c-2276d79f2fa6"
      },
      "execution_count": 35,
      "outputs": [
        {
          "output_type": "execute_result",
          "data": {
            "text/plain": [
              "LogisticRegression()"
            ],
            "text/html": [
              "<style>#sk-container-id-2 {color: black;background-color: white;}#sk-container-id-2 pre{padding: 0;}#sk-container-id-2 div.sk-toggleable {background-color: white;}#sk-container-id-2 label.sk-toggleable__label {cursor: pointer;display: block;width: 100%;margin-bottom: 0;padding: 0.3em;box-sizing: border-box;text-align: center;}#sk-container-id-2 label.sk-toggleable__label-arrow:before {content: \"▸\";float: left;margin-right: 0.25em;color: #696969;}#sk-container-id-2 label.sk-toggleable__label-arrow:hover:before {color: black;}#sk-container-id-2 div.sk-estimator:hover label.sk-toggleable__label-arrow:before {color: black;}#sk-container-id-2 div.sk-toggleable__content {max-height: 0;max-width: 0;overflow: hidden;text-align: left;background-color: #f0f8ff;}#sk-container-id-2 div.sk-toggleable__content pre {margin: 0.2em;color: black;border-radius: 0.25em;background-color: #f0f8ff;}#sk-container-id-2 input.sk-toggleable__control:checked~div.sk-toggleable__content {max-height: 200px;max-width: 100%;overflow: auto;}#sk-container-id-2 input.sk-toggleable__control:checked~label.sk-toggleable__label-arrow:before {content: \"▾\";}#sk-container-id-2 div.sk-estimator input.sk-toggleable__control:checked~label.sk-toggleable__label {background-color: #d4ebff;}#sk-container-id-2 div.sk-label input.sk-toggleable__control:checked~label.sk-toggleable__label {background-color: #d4ebff;}#sk-container-id-2 input.sk-hidden--visually {border: 0;clip: rect(1px 1px 1px 1px);clip: rect(1px, 1px, 1px, 1px);height: 1px;margin: -1px;overflow: hidden;padding: 0;position: absolute;width: 1px;}#sk-container-id-2 div.sk-estimator {font-family: monospace;background-color: #f0f8ff;border: 1px dotted black;border-radius: 0.25em;box-sizing: border-box;margin-bottom: 0.5em;}#sk-container-id-2 div.sk-estimator:hover {background-color: #d4ebff;}#sk-container-id-2 div.sk-parallel-item::after {content: \"\";width: 100%;border-bottom: 1px solid gray;flex-grow: 1;}#sk-container-id-2 div.sk-label:hover label.sk-toggleable__label {background-color: #d4ebff;}#sk-container-id-2 div.sk-serial::before {content: \"\";position: absolute;border-left: 1px solid gray;box-sizing: border-box;top: 0;bottom: 0;left: 50%;z-index: 0;}#sk-container-id-2 div.sk-serial {display: flex;flex-direction: column;align-items: center;background-color: white;padding-right: 0.2em;padding-left: 0.2em;position: relative;}#sk-container-id-2 div.sk-item {position: relative;z-index: 1;}#sk-container-id-2 div.sk-parallel {display: flex;align-items: stretch;justify-content: center;background-color: white;position: relative;}#sk-container-id-2 div.sk-item::before, #sk-container-id-2 div.sk-parallel-item::before {content: \"\";position: absolute;border-left: 1px solid gray;box-sizing: border-box;top: 0;bottom: 0;left: 50%;z-index: -1;}#sk-container-id-2 div.sk-parallel-item {display: flex;flex-direction: column;z-index: 1;position: relative;background-color: white;}#sk-container-id-2 div.sk-parallel-item:first-child::after {align-self: flex-end;width: 50%;}#sk-container-id-2 div.sk-parallel-item:last-child::after {align-self: flex-start;width: 50%;}#sk-container-id-2 div.sk-parallel-item:only-child::after {width: 0;}#sk-container-id-2 div.sk-dashed-wrapped {border: 1px dashed gray;margin: 0 0.4em 0.5em 0.4em;box-sizing: border-box;padding-bottom: 0.4em;background-color: white;}#sk-container-id-2 div.sk-label label {font-family: monospace;font-weight: bold;display: inline-block;line-height: 1.2em;}#sk-container-id-2 div.sk-label-container {text-align: center;}#sk-container-id-2 div.sk-container {/* jupyter's `normalize.less` sets `[hidden] { display: none; }` but bootstrap.min.css set `[hidden] { display: none !important; }` so we also need the `!important` here to be able to override the default hidden behavior on the sphinx rendered scikit-learn.org. See: https://github.com/scikit-learn/scikit-learn/issues/21755 */display: inline-block !important;position: relative;}#sk-container-id-2 div.sk-text-repr-fallback {display: none;}</style><div id=\"sk-container-id-2\" class=\"sk-top-container\"><div class=\"sk-text-repr-fallback\"><pre>LogisticRegression()</pre><b>In a Jupyter environment, please rerun this cell to show the HTML representation or trust the notebook. <br />On GitHub, the HTML representation is unable to render, please try loading this page with nbviewer.org.</b></div><div class=\"sk-container\" hidden><div class=\"sk-item\"><div class=\"sk-estimator sk-toggleable\"><input class=\"sk-toggleable__control sk-hidden--visually\" id=\"sk-estimator-id-2\" type=\"checkbox\" checked><label for=\"sk-estimator-id-2\" class=\"sk-toggleable__label sk-toggleable__label-arrow\">LogisticRegression</label><div class=\"sk-toggleable__content\"><pre>LogisticRegression()</pre></div></div></div></div></div>"
            ]
          },
          "metadata": {},
          "execution_count": 35
        }
      ]
    },
    {
      "cell_type": "code",
      "source": [
        "y_pred=logr.predict(x_test)\n",
        "print(accuracy_score(y_test,y_pred))"
      ],
      "metadata": {
        "colab": {
          "base_uri": "https://localhost:8080/"
        },
        "id": "_CVz1bD0WO8E",
        "outputId": "60347b17-13fc-43da-d5bc-ad1e01e9243e"
      },
      "execution_count": 36,
      "outputs": [
        {
          "output_type": "stream",
          "name": "stdout",
          "text": [
            "1.0\n"
          ]
        }
      ]
    }
  ]
}